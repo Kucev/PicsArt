{
 "cells": [
  {
   "cell_type": "markdown",
   "metadata": {},
   "source": [
    "Решение онлайн этапа хакатона [PicsArt AI](https://picsart.ai/ru/hack) на CPU без использования нейронных сетей в 25 строк. Dice Score: 0.954265"
   ]
  },
  {
   "cell_type": "code",
   "execution_count": 74,
   "metadata": {
    "collapsed": false,
    "deletable": true,
    "editable": true
   },
   "outputs": [],
   "source": [
    "import pandas as pd\n",
    "import requests\n",
    "import os\n",
    "import cv2\n",
    "import base64 \n",
    "from utils import rle_encode\n",
    "from tqdm import tqdm_notebook"
   ]
  },
  {
   "cell_type": "code",
   "execution_count": 65,
   "metadata": {
    "collapsed": false,
    "deletable": true,
    "editable": true
   },
   "outputs": [],
   "source": [
    "files_img = sorted(map(\n",
    "    lambda x: x.split('.')[0],filter(lambda x: x[-4:] == '.jpg',os.listdir('picsart_test'))))"
   ]
  },
  {
   "cell_type": "code",
   "execution_count": 34,
   "metadata": {
    "collapsed": false,
    "deletable": true,
    "editable": true
   },
   "outputs": [
    {
     "data": {
      "application/vnd.jupyter.widget-view+json": {
       "model_id": "22dffb249b61425a91f283974ccbdb72",
       "version_major": 2,
       "version_minor": 0
      },
      "text/plain": [
       "A Jupyter Widget"
      ]
     },
     "metadata": {},
     "output_type": "display_data"
    },
    {
     "name": "stdout",
     "output_type": "stream",
     "text": [
      "\n"
     ]
    }
   ],
   "source": [
    "url_picsart = 'https://picsart.easygold.ai/api/segment' \n",
    "for img in tqdm_notebook(files_img):\n",
    "    mask = requests.post(url_picsart,headers= {'Content-Type': 'application/json;charset=UTF-8'},\n",
    "                      data = '{\"url\":\"http://kucev.ru/picsart_test/%s.jpg\"}' % img).json()\n",
    "    png_recovered = base64.decodestring(mask['data']['mask'])\n",
    "    f = open(\"masks/%s\" % (img + '.png'), \"w\")\n",
    "    f.write(png_recovered)\n",
    "    f.close()"
   ]
  },
  {
   "cell_type": "code",
   "execution_count": 76,
   "metadata": {
    "collapsed": false,
    "deletable": true,
    "editable": true
   },
   "outputs": [
    {
     "data": {
      "application/vnd.jupyter.widget-view+json": {
       "model_id": "391eb32189354b138b49a2083c89ebfc",
       "version_major": 2,
       "version_minor": 0
      },
      "text/plain": [
       "A Jupyter Widget"
      ]
     },
     "metadata": {},
     "output_type": "display_data"
    },
    {
     "name": "stdout",
     "output_type": "stream",
     "text": [
      "\n"
     ]
    }
   ],
   "source": [
    "predictions = []\n",
    "for mask_path in tqdm_notebook(files_img):\n",
    "    mask = (cv2.imread('masks/' + mask_path + \".png\") / 255.).astype(int)[:,:,1]\n",
    "    rle = rle_encode(mask)\n",
    "    predictions.append(rle)\n",
    "df = pd.DataFrame.from_dict({'image': files_img, 'rle_mask': predictions})\n",
    "df.to_csv('submission.csv', index=False)"
   ]
  }
 ],
 "metadata": {
  "kernelspec": {
   "display_name": "Python 2",
   "language": "python",
   "name": "python2"
  },
  "language_info": {
   "codemirror_mode": {
    "name": "ipython",
    "version": 2
   },
   "file_extension": ".py",
   "mimetype": "text/x-python",
   "name": "python",
   "nbconvert_exporter": "python",
   "pygments_lexer": "ipython2",
   "version": "2.7.14"
  }
 },
 "nbformat": 4,
 "nbformat_minor": 0
}
